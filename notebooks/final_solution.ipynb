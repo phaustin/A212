{
 "cells": [
  {
   "cell_type": "markdown",
   "metadata": {},
   "source": [
    "## Instructions:\n",
    "\n",
    "Due:  Monday, April 25, at 9am.\n",
    "\n",
    "Complete these three question in three separate notebooks.  You can use any materials you can find including\n",
    "the class notebooks (be sure and give the source of anything that's not your own work and not in our github repository):  http://clouds.eos.ubc.ca/~phil/courses/atsc212/notebook_index.html.  Hand in via a dropbox (or other file sharing service) url (email it to me).  In your email -- include 3 possible 30 minute slots sometime next week where we can go over your solutions.\n",
    "\n",
    "Make sure that your functions follow the code guidelines of Day 8/bessel_fun.py\n",
    "\n"
   ]
  },
  {
   "cell_type": "code",
   "execution_count": 10,
   "metadata": {
    "collapsed": false
   },
   "outputs": [],
   "source": [
    "from numpy import random\n",
    "random.seed(10)\n",
    "size=int(8.e4)\n",
    "values = random.random_sample([size])\n",
    "values=values*1000."
   ]
  },
  {
   "cell_type": "markdown",
   "metadata": {},
   "source": [
    "### 1\\.  Histogram\n",
    "\n",
    "Write a function that takes a 1-d vector of values and a vector of bins and returns a histogram vector with the number of values that fall into each bin.  Test your function by using it to bin the 80,000 values in the cell above into 20 bins with left edge at 100 and right edge at 900.  Note that you will need to assign a \"under_bin\" and an \"over_bin\" for values that fall outside of that range.   Make your function signature:\n",
    "\n",
    "```\n",
    "my_hist(values, bins, under_bins= -1000, over_bins = -999)\n",
    "```\n",
    "\n",
    "Your routine should not use any numpy or matplotlib functions, only straight python -- i.e. for loops, if/elif/else, sort are ok,  numpy.histogram not so much.\n",
    "\n",
    "Make an xy plot of your result, with bins on the x axis and counts on the y axis."
   ]
  },
  {
   "cell_type": "markdown",
   "metadata": {},
   "source": [
    "### 2\\. Histogram solution\n"
   ]
  },
  {
   "cell_type": "code",
   "execution_count": null,
   "metadata": {
    "collapsed": true
   },
   "outputs": [],
   "source": [
    "def my_hist(values,bins, under_bins = -1000, over_bins = -999):\n",
    "    bins.sort()\n",
    "    bin_min = bins[0]\n",
    "    bin_max = bins[-1]\n",
    "    out_bin_list = []\n",
    "    for a_value in values:\n",
    "        if a_value < bin_min:\n",
    "            out_bin_list.append(under_bins)\n",
    "        elif a_value > bin_max:\n",
    "            out_bin_list.append(over_bins)\n",
    "        else:\n",
    "           for index,a_bin in enumerate(bins):\n",
    "                if a_value \n",
    "            \n",
    "        "
   ]
  },
  {
   "cell_type": "markdown",
   "metadata": {},
   "source": [
    "### 2\\. Satellite subscenes\n",
    "\n",
    "Redo the [satellite_subscene](http://clouds.eos.ubc.ca/~phil/courses/atsc212/html/satellite_subscene.html) notebook so that:\n",
    "\n",
    "1\\.  Cell [102] becomes a function that two vectors bot_rows and left_cols and a file_dict that contains the 2-d arrays of ch29, ch31 and phase and returns the scene_dict with the dataframes for each subscene\n",
    "\n",
    "2\\. Cell [110] becomes a function that takes this scene dict and returns dataframes for ch29 and ch31 with the mean brightness temperature for each subscene along the rows and the phase (0, 1, 2, 3, 4) along the coluumns.\n",
    "\n",
    "Call these two functions with the satellite image divided into 16 rows and 8 columns so you have 128 subscenes and redo the plot of sell [109] with these 128 points.\n",
    "\n"
   ]
  },
  {
   "cell_type": "markdown",
   "metadata": {},
   "source": [
    "### 3\\.  Correlation\n",
    "\n",
    "Starting with the dataframe in our [pandas tutorial](https://github.com/phaustin/pandas-cookbook/blob/master/cookbook/Chapter%205%20-%20Combining%20dataframes%20and%20scraping%20Canadian%20weather%20data.ipynb) make a scatterplot of temperature (x axis) vs. dew point (y axis) for weater_mar2012.  Assume an accuracy of 0.2 K in both temperature and dewpoint and use a212libs.linfit to add a regression line  with error bars to the scatter plot."
   ]
  },
  {
   "cell_type": "code",
   "execution_count": null,
   "metadata": {
    "collapsed": true
   },
   "outputs": [],
   "source": []
  }
 ],
 "metadata": {
  "kernelspec": {
   "display_name": "Python 3",
   "language": "python",
   "name": "python3"
  },
  "language_info": {
   "codemirror_mode": {
    "name": "ipython",
    "version": 3
   },
   "file_extension": ".py",
   "mimetype": "text/x-python",
   "name": "python",
   "nbconvert_exporter": "python",
   "pygments_lexer": "ipython3",
   "version": "3.5.1"
  }
 },
 "nbformat": 4,
 "nbformat_minor": 0
}
