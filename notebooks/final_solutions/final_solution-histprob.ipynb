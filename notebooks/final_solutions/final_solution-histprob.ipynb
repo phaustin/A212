{
 "cells": [
  {
   "cell_type": "markdown",
   "metadata": {},
   "source": [
    "## Instructions:\n",
    "\n",
    "Due:  Monday, April 25, at 9am.\n",
    "\n",
    "Complete these three question in three separate notebooks.  You can use any materials you can find including\n",
    "the class notebooks (be sure and give the source of anything that's not your own work and not in our github repository):  http://clouds.eos.ubc.ca/~phil/courses/atsc212/notebook_index.html.  Hand in via a dropbox (or other file sharing service) url (email it to me).  In your email -- include 3 possible 30 minute slots sometime next week where we can go over your solutions.\n",
    "\n",
    "Make sure that your functions follow the code guidelines of Day 8/bessel_fun.py\n",
    "\n"
   ]
  },
  {
   "cell_type": "code",
   "execution_count": 65,
   "metadata": {
    "collapsed": false
   },
   "outputs": [],
   "source": [
    "from numpy import random\n",
    "random.seed(10)\n",
    "size=int(8.e4)\n",
    "values = random.random_sample([size])\n",
    "values=values*1000."
   ]
  },
  {
   "cell_type": "markdown",
   "metadata": {},
   "source": [
    "### 1\\.  Histogram\n",
    "\n",
    "Write a function that takes a 1-d vector of values and a vector of bins and returns a histogram vector with the number of values that fall into each bin.  Test your function by using it to bin the 80,000 values in the cell above into 20 bins with left edge at 100 and right edge at 900.  Note that you will need to assign a \"under_bin\" and an \"over_bin\" for values that fall outside of that range.   Make your function signature:\n",
    "\n",
    "```\n",
    "my_hist(values, bins, under_bins= -1000, over_bins = -999)\n",
    "```\n",
    "\n",
    "Your routine should not use any numpy or matplotlib functions, only straight python -- i.e. for loops, if/elif/else, sort are ok,  numpy.histogram not so much.\n",
    "\n",
    "Make an xy plot of your result, with bins on the x axis and counts on the y axis."
   ]
  },
  {
   "cell_type": "markdown",
   "metadata": {},
   "source": [
    "### 2\\. Histogram solution\n"
   ]
  },
  {
   "cell_type": "code",
   "execution_count": 67,
   "metadata": {
    "collapsed": false
   },
   "outputs": [
    {
     "data": {
      "text/plain": [
       "[(0, 3500)]"
      ]
     },
     "execution_count": 67,
     "metadata": {},
     "output_type": "execute_result"
    },
    {
     "data": {
      "image/png": "[encoded data removed]",
      "text/plain": [
       "<matplotlib.figure.Figure at 0x10ca27da0>"
      ]
     },
     "metadata": {},
     "output_type": "display_data"
    }
   ],
   "source": [
    "def my_hist(values,edges, under_bins = -1000, over_bins = -999):\n",
    "    \"\"\"\n",
    "    Histogram a vector of values into bins marked by edges\n",
    "    \n",
    "    Parameters\n",
    "    ----------\n",
    "    \n",
    "    values: vector or list (float or int)\n",
    "        values to be binned\n",
    "    edges: vector or list of bin edges (float or in)\n",
    "        left and right edges of each bin\n",
    "    under_bins: float or int\n",
    "        bin value to assign to values < smallest bin\n",
    "    over_bins: float or int\n",
    "        bin_value to assign to values > largest bin\n",
    "        \n",
    "    Returns\n",
    "    -------\n",
    "    \n",
    "    bin_centers: list (float)\n",
    "        centers of each bin, with under_bins,over_bins prepended\n",
    "    hist_out: list (int)\n",
    "        number of counts in each bin, in same order as bin_centers\n",
    "        \n",
    "    Example\n",
    "    -------\n",
    "     \n",
    "     >>> bin_edges=[1,2,3,4,5,6,7]\n",
    "     >>> values=[-1, -2, 3.5,2.5,2.7,4.8]\n",
    "     >>> my_hist(values,bin_edges)\n",
    "     >>> ([-1000, -999, 1.5, 2.5, 3.5, 4.5, 5.5, 6.5], [2, 2, 1, 1])\n",
    "    \"\"\"\n",
    "    values=np.asarray(values)\n",
    "    edges = np.asarray(edges)\n",
    "    edges.sort()\n",
    "    #\n",
    "    # find the left and rightmost edges\n",
    "    #\n",
    "    left_edge = edges[0]\n",
    "    right_edge = edges[-1]\n",
    "    out_bin_list = []\n",
    "    #\n",
    "    # loop through the values, finding the bin edge that\n",
    "    # is just to the left of the left of the data value\n",
    "    for a_value in values:\n",
    "        if a_value < left_edge:\n",
    "            out_bin_list.append(under_bins)\n",
    "        elif a_value > right_edge:\n",
    "            out_bin_list.append(over_bins)\n",
    "        else:\n",
    "           for index,bin_edge in enumerate(edges):\n",
    "                if bin_edge > a_value:\n",
    "                    out_bin_list.append(index)\n",
    "                    break\n",
    "    count_dict={}\n",
    "    for index_val in out_bin_list:\n",
    "        if index_val in count_dict:\n",
    "            count_dict[index_val]+=1\n",
    "        else:\n",
    "            count_dict[index_val]=1\n",
    "    bin_centers = list((edges[1:] + edges[0:-1])/2.)\n",
    "    bin_centers.insert(0,under_bins)\n",
    "    bin_centers.insert(1,over_bins)\n",
    "    keys = list(count_dict.keys())\n",
    "    keys.sort()\n",
    "    hist_out = []\n",
    "    for the_key in keys:\n",
    "        hist_out.append(count_dict[the_key])\n",
    "    return bin_centers,hist_out   \n",
    "    \n",
    "        \n",
    "%matplotlib inline\n",
    "plt.close('all')\n",
    "bin_edges = np.linspace(100,900,21,endpoint=True)\n",
    "bin_centers,hist_out = my_hist(values,bin_edges)\n",
    "fig, (ax1,ax2) = plt.subplots(1,2,figsize=(14,8))\n",
    "ax1.plot(bin_centers[2:],hist_out[2:])\n",
    "ax2.hist(values,bins=bin_edges)\n",
    "ax1.set(ylim=[0,3500])"
   ]
  }
 ],
 "metadata": {
  "kernelspec": {
   "display_name": "Python 3",
   "language": "python",
   "name": "python3"
  },
  "language_info": {
   "codemirror_mode": {
    "name": "ipython",
    "version": 3
   },
   "file_extension": ".py",
   "mimetype": "text/x-python",
   "name": "python",
   "nbconvert_exporter": "python",
   "pygments_lexer": "ipython3",
   "version": "3.5.1"
  }
 },
 "nbformat": 4,
 "nbformat_minor": 0
}
